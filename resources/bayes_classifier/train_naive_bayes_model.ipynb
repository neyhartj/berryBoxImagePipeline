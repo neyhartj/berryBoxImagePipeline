{
 "cells": [
  {
   "cell_type": "markdown",
   "id": "4d076506",
   "metadata": {},
   "source": [
    "# berryBoxImager\n",
    "\n",
    "Code to process images taken in a controlled lightbox setting. These images will be used to measure phenotypic information on berries, including size, shape, and color.\n",
    "\n",
    "Steps in the berry box imaging pipeline:\n",
    "+ **Process images**\n",
    "+ Measure phenotypes\n",
    "\n",
    "\n",
    "## Train Naive Bayes Classifier"
   ]
  },
  {
   "cell_type": "markdown",
   "id": "52e5a14b",
   "metadata": {},
   "source": [
    "## Setup\n",
    "\n",
    "Load packages, set directories, etc.\n"
   ]
  },
  {
   "cell_type": "code",
   "execution_count": 3,
   "id": "1205ee02",
   "metadata": {
    "scrolled": true
   },
   "outputs": [],
   "source": [
    "# Load packages\n",
    "import cv2 as cv\n",
    "import imageio\n",
    "import numpy as np\n",
    "from matplotlib import pyplot as plt\n",
    "import os\n",
    "from plantcv import plantcv as pcv\n",
    "import shutil\n",
    "from datetime import datetime\n",
    "import time\n",
    "\n",
    "# Project directory\n",
    "proj_dir = os.getcwd()\n",
    "\n",
    "# Directory containing example images\n",
    "classifier_dir = os.path.join(proj_dir, \"../resources/bayes_classifier\")\n",
    "\n",
    "!python C:\\Users\\jeffrey.neyhart\\Anaconda3\\Scripts\\plantcv-train.py naive_bayes_multiclass --file .\\bayes_classifier_training.txt -o bayes_classified_pdf.out -p"
   ]
  }
 ],
 "metadata": {
  "kernelspec": {
   "display_name": "Python 3",
   "language": "python",
   "name": "python3"
  },
  "language_info": {
   "codemirror_mode": {
    "name": "ipython",
    "version": 3
   },
   "file_extension": ".py",
   "mimetype": "text/x-python",
   "name": "python",
   "nbconvert_exporter": "python",
   "pygments_lexer": "ipython3",
   "version": "3.8.8"
  }
 },
 "nbformat": 4,
 "nbformat_minor": 5
}
